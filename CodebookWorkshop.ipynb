{
 "cells": [
  {
   "cell_type": "markdown",
   "metadata": {},
   "source": [
    "# Welcome To CodeBook"
   ]
  },
  {
   "cell_type": "markdown",
   "metadata": {},
   "source": [
    "### Navigation And Shortcuts"
   ]
  },
  {
   "cell_type": "markdown",
   "metadata": {},
   "source": [
    "Change a cell from coding to language scripting: Press M "
   ]
  },
  {
   "cell_type": "markdown",
   "metadata": {},
   "source": [
    "Change a cell from language scripting to coding: Press Y"
   ]
  },
  {
   "cell_type": "markdown",
   "metadata": {},
   "source": [
    "Run the cell: Shift + Return"
   ]
  },
  {
   "cell_type": "markdown",
   "metadata": {},
   "source": [
    "Enter Edit Mode: Press Return"
   ]
  },
  {
   "cell_type": "markdown",
   "metadata": {},
   "source": [
    "Enter Command Mode: Press Escape"
   ]
  },
  {
   "cell_type": "markdown",
   "metadata": {},
   "source": [
    "Add a cell: Press A for above, Press B for below"
   ]
  },
  {
   "cell_type": "markdown",
   "metadata": {},
   "source": [
    "Delete a cell: Press D, and D again"
   ]
  },
  {
   "cell_type": "markdown",
   "metadata": {},
   "source": [
    "If you use Jupyter Notebooks (not in CodeBook), you can press H to see all shortcuts for Edit and Command mode\n",
    "\n",
    "- Saving your Notebooks:\n",
    "    - Right click on the notebook, select ‘open in a new browser’, and then save\n",
    "    - Make sure the notebook ends with .ipynb\n",
    "        - If you use Spyder and other IDEs, they will have an ending in .py, and you will need to change the format to .ipynb"
   ]
  },
  {
   "cell_type": "markdown",
   "metadata": {},
   "source": [
    "# Welcome to Python"
   ]
  },
  {
   "cell_type": "markdown",
   "metadata": {},
   "source": [
    "# Expressions and Operators\n",
    "\n",
    "An expression is the most basic kind of programming instruction in the language. Expressions consist of values and operators. \n",
    "\n",
    "They can always evaluate (reduce) down to a single value.\n",
    "\n",
    "For example, 2 is a value, and + is an operator. "
   ]
  },
  {
   "cell_type": "code",
   "execution_count": null,
   "metadata": {
    "scrolled": true
   },
   "outputs": [],
   "source": [
    "2 + 2"
   ]
  },
  {
   "cell_type": "markdown",
   "metadata": {},
   "source": [
    "### Math Operators from Highest to Lowest Precendence (think PEMDAS and order of operations)\n",
    "\n",
    "     Operator                      Operation                        Example                   Evaluates to...\n",
    "        \n",
    "        **                          Exponent                         2 ** 3                          8\n",
    "        %                       Modulus/remainder                    22 % 8                          6\n",
    "        //                      Integer Division                     22 // 8                         2\n",
    "        /                          Division                          22 / 8                          2.75\n",
    "        *                        Multiplication                      3 * 5                           15\n",
    "        -                         Subtraction                        5 - 2                           3\n",
    "        +                           Addition                         2 + 2                           4        "
   ]
  },
  {
   "cell_type": "markdown",
   "metadata": {},
   "source": [
    "#### Try for yourself!\n",
    "Write an expression using one of the operators above. Do you just get 1 value?"
   ]
  },
  {
   "cell_type": "code",
   "execution_count": null,
   "metadata": {},
   "outputs": [],
   "source": [
    "22 % 8"
   ]
  },
  {
   "cell_type": "code",
   "execution_count": null,
   "metadata": {},
   "outputs": [],
   "source": [
    "5-2"
   ]
  },
  {
   "cell_type": "markdown",
   "metadata": {},
   "source": [
    "Please note that expressions alone are not stored in a place where you can call on the output. This is why expressions are important to know, but not too useful if used alone. "
   ]
  },
  {
   "cell_type": "markdown",
   "metadata": {},
   "source": [
    "# Variables\n",
    "\n",
    "A variable is a reserved memory location to store values. If you want to use the result of an evaluated expression later in a program, you can save it in a variable! Then, when you call on a variable, it gives the data stored in the variable for processing\n",
    "\n",
    "### Creating a Variable\n",
    "\n",
    "You store values in variables with an assignment statement, which consists of a variable name, an equal sign, and the value to be stored"
   ]
  },
  {
   "cell_type": "code",
   "execution_count": null,
   "metadata": {},
   "outputs": [],
   "source": [
    "test_variable = 6"
   ]
  },
  {
   "cell_type": "markdown",
   "metadata": {},
   "source": [
    "When you initially create a variable, there is no output. If you want to see what was stored in the variable, simply write the variable in a line and execute the line"
   ]
  },
  {
   "cell_type": "code",
   "execution_count": null,
   "metadata": {},
   "outputs": [],
   "source": [
    "test_variable"
   ]
  },
  {
   "cell_type": "markdown",
   "metadata": {},
   "source": [
    "A variable is \"initialized\" (or created) the first time a value is stored in it. After that, you can use it in expressions with other variables and values.\n",
    "\n",
    "When a variable is assigned a new value, the old value is forgotten. This is called overwritting the variable. Try it out below"
   ]
  },
  {
   "cell_type": "code",
   "execution_count": null,
   "metadata": {},
   "outputs": [],
   "source": [
    "#Try it out. Create a variable called \"test\", and store any value in it, then call on the variable to check if it worked\n",
    "\n",
    "test = 4"
   ]
  },
  {
   "cell_type": "code",
   "execution_count": null,
   "metadata": {},
   "outputs": [],
   "source": [
    "#Try it out. Assign \"test\" a new value and call on the value again\n",
    "test"
   ]
  },
  {
   "cell_type": "code",
   "execution_count": null,
   "metadata": {},
   "outputs": [],
   "source": [
    "#Try it out. \n",
    "\n",
    "#Assign \"test\" a new value again that is 2 higher than the current \"test\" value. \n",
    "#This time, try using the already existing value stored in the variable to assign the new value.\n",
    "test = 19"
   ]
  },
  {
   "cell_type": "code",
   "execution_count": null,
   "metadata": {},
   "outputs": [],
   "source": [
    "#Try it out. \n",
    "#Create another variable and call it whatever you want. Then, type an expression using \"test\" and your new variable\n",
    "test"
   ]
  },
  {
   "cell_type": "code",
   "execution_count": null,
   "metadata": {},
   "outputs": [],
   "source": []
  },
  {
   "cell_type": "markdown",
   "metadata": {},
   "source": [
    "### Variable Names\n",
    "\n",
    "1. It can only be one word\n",
    "2. It can use only letters, numbers, and the _ character\n",
    "3. It can't begin with a number\n",
    "\n",
    "Variable names are case sensitive. \"ric\" \"RIC\" and \"Ric\" are three different variables."
   ]
  },
  {
   "cell_type": "code",
   "execution_count": null,
   "metadata": {},
   "outputs": [],
   "source": [
    "dataframe = 1"
   ]
  },
  {
   "cell_type": "markdown",
   "metadata": {},
   "source": [
    "A good variable name describes the data it contains. Avoid making your variable names things like \"stuff\", because when you need to call on a variable and they all are very generic names, you will have a tough time picking the right one!"
   ]
  },
  {
   "cell_type": "markdown",
   "metadata": {},
   "source": [
    "# SyntaxError In Python"
   ]
  },
  {
   "cell_type": "markdown",
   "metadata": {},
   "source": [
    "Errors are useful to identify where is the error located as well as providing a brief explanation of the error itself.  \n",
    "\n",
    "The next step is to google the error to find a similar solution on stackoverflow.\n",
    "\n",
    "Link: https://stackoverflow.com"
   ]
  },
  {
   "cell_type": "code",
   "execution_count": null,
   "metadata": {},
   "outputs": [],
   "source": [
    "1 = 2"
   ]
  },
  {
   "cell_type": "markdown",
   "metadata": {},
   "source": [
    "# Data Types\n",
    "\n",
    "A data type is a category for values, and every value belongs exactly to one data type.\n",
    "\n",
    "When you define a variable, Python automatically assumes that it's of a type that makes the most sense at that point\n",
    "\n",
    "### Getting the Data Type\n",
    "\n",
    "You can get the data type of any object by using the type() function. Inside the parenthesis, insert the variable or expression you want to know the type of"
   ]
  },
  {
   "cell_type": "code",
   "execution_count": null,
   "metadata": {},
   "outputs": [],
   "source": [
    "#Try it out. What is the data type of \"test\"?\n",
    "\n",
    "\n",
    "type(test)\n",
    "\n"
   ]
  },
  {
   "cell_type": "code",
   "execution_count": null,
   "metadata": {},
   "outputs": [],
   "source": [
    "#What is the data type of 5/2? \n",
    "\n",
    "type(5/2)"
   ]
  },
  {
   "cell_type": "markdown",
   "metadata": {},
   "source": [
    "## Numeric Types\n",
    "\n",
    "### Integer (or int)\n",
    "Indicates values that are whole numbers\n",
    "\n",
    "### Floating-point numbers (or floats)\n",
    "A value with a decimal point. For example, 3.14 is a float"
   ]
  },
  {
   "cell_type": "code",
   "execution_count": null,
   "metadata": {},
   "outputs": [],
   "source": [
    "#Try it out. What is the data type for 42.0 ? What about 42 ? \n",
    "\n",
    "type(42.0)"
   ]
  },
  {
   "cell_type": "markdown",
   "metadata": {},
   "source": [
    "## Text Types\n",
    "\n",
    "### Strings (or str)\n",
    "\n",
    "Strings are text values. To create a string, surround your value in either single or double quotes (it doesnt matter which, but they must be identical). The quotes let Python know where your string begins and ends."
   ]
  },
  {
   "cell_type": "code",
   "execution_count": null,
   "metadata": {},
   "outputs": [],
   "source": [
    "# Try it out. Make a variable \"lunch\" and store a string of what you've brought for lunch today.\n",
    "# Then call on the string, and also use the type() function to check if what you made is a string\n",
    "\n",
    "lunch = \"bagel\"\n",
    "type(lunch)"
   ]
  },
  {
   "cell_type": "markdown",
   "metadata": {},
   "source": [
    "#### String Manipulation\n",
    "Python contains many methods and functions that can manipulate strings. For example, we will explore the .lower() method and the len function."
   ]
  },
  {
   "cell_type": "markdown",
   "metadata": {},
   "source": [
    "To print an entire string in lower case you can add .lower() at the end of your variable"
   ]
  },
  {
   "cell_type": "code",
   "execution_count": null,
   "metadata": {},
   "outputs": [],
   "source": [
    "loud = \"WHY ARE YOU SCREAMING\"\n",
    "#loud\n",
    "#loud = loud.lower()\n",
    "loud.lower()"
   ]
  },
  {
   "cell_type": "code",
   "execution_count": null,
   "metadata": {},
   "outputs": [],
   "source": [
    "loud"
   ]
  },
  {
   "cell_type": "markdown",
   "metadata": {},
   "source": [
    "The above lower() method **did not** change the string stored . You can verify by calling on your variable again.\n",
    "\n",
    "\n",
    "To know how many characters are in the string, use the len function"
   ]
  },
  {
   "cell_type": "code",
   "execution_count": null,
   "metadata": {},
   "outputs": [],
   "source": [
    "#Try it out. How many characters are in your lunch variable?\n",
    "\n",
    "len(\"string\")"
   ]
  },
  {
   "cell_type": "markdown",
   "metadata": {},
   "source": [
    "### Changing the data type of a variable\n",
    "\n",
    "There are several functions you can use to convert a variable from one data type to another. For example, if you have a variable that is storing an integer and want to convert this value into a float, you can use the float() function.\n",
    "\n",
    "* int()          - Can convert a numeric value or a string that is a numeric value into an integer\n",
    "* float()        - Can convert a numeric value or a string that is a numeric value into a float\n",
    "* str()          - Can convert a numeric value into a string"
   ]
  },
  {
   "cell_type": "code",
   "execution_count": null,
   "metadata": {},
   "outputs": [],
   "source": [
    "#Try it out. Create 3 variables, x, y , and z. Make x a whole number, y a decimal, and z a string of a numeric value\n",
    "\n",
    "x = 6\n",
    "y = 3.4,\n",
    "z = \"18\""
   ]
  },
  {
   "cell_type": "code",
   "execution_count": null,
   "metadata": {},
   "outputs": [],
   "source": [
    "#Try it out. Convert x into a float, and use type() to check if it is now a float\n",
    "\n",
    "x = float(x)\n",
    "\n",
    "print(\"x = \",x,\", type =\",type(x))"
   ]
  },
  {
   "cell_type": "code",
   "execution_count": null,
   "metadata": {},
   "outputs": [],
   "source": [
    "#Try it out. Convert x into a string, and use type() to check if it is now a string\n",
    "\n",
    "x = str(x)\n",
    "\n",
    "print(\"x = \",x,\", type =\",type(x))"
   ]
  },
  {
   "cell_type": "code",
   "execution_count": null,
   "metadata": {},
   "outputs": [],
   "source": [
    "#Try it out. Convert z to an integer, use type() to check if it is now a integer\n",
    "\n",
    "z = int(z)\n",
    "print(\"z = \",z,\", type =\",type(z))"
   ]
  },
  {
   "cell_type": "code",
   "execution_count": null,
   "metadata": {},
   "outputs": [],
   "source": [
    "#What if we have a string of characters? \n",
    "\n",
    "x = \"hi\"\n",
    "x = int(x)"
   ]
  },
  {
   "cell_type": "markdown",
   "metadata": {},
   "source": [
    "# Lists, Tuples, Dictionaries\n",
    "\n",
    "While a variable contains one value, lists and tuples can contain multiple values, making it easier to write programs that handle **large amounts of data**.\n",
    "\n",
    "For this reason, lists are incredibly important when you interact with an API. With lists, you can store the value of several RICs that you want to pull data for in the API. If you use variables for a list of 10 RICs, you would have to run the API 10 separate times, changing the variable name every time. With lists, you can have 1 input for 10 RICs!\n",
    "\n",
    "***Lists themselves also can contain other lists, allowing you to use lists to arrange data into hierarchical structures.***\n",
    "\n",
    "## Lists\n",
    "\n",
    "A list is a value that contains multiple values in an ordered sequence.\n",
    "\n",
    "Lists look something like this:"
   ]
  },
  {
   "cell_type": "code",
   "execution_count": null,
   "metadata": {},
   "outputs": [],
   "source": [
    "ExampleList = [\"dog\",4,\"lion\",\"tiger\",\"fish\"]\n",
    "ExampleList"
   ]
  },
  {
   "cell_type": "markdown",
   "metadata": {},
   "source": [
    "### List Syntax\n",
    "\n",
    "* A list begins with an opening square bracket, [, and ends with a closing square bracket, ].\n",
    "* Values inside the list are called items. Items are separated with commas. \n",
    "* A list can consist of multiple data types. You can have integers, floats, strings, lists, etc. in a list\n",
    "* lists can be assigned to variables as well.\n",
    "* an empty list can be created by simply using [ ]\n"
   ]
  },
  {
   "cell_type": "code",
   "execution_count": null,
   "metadata": {},
   "outputs": [],
   "source": [
    "#Try it out. Assign to variable rics a list of 4 RICs of your choosing \n",
    "\n",
    "\n",
    "RICS = [\"AAPL.O\",\"MSFT.O\",\"GOOGL.O\",\"IBM.N\"]\n"
   ]
  },
  {
   "cell_type": "markdown",
   "metadata": {},
   "source": [
    "### Getting Individual Values in a List with Indexes\n",
    "\n",
    "Each item inside of a list has an index value, which identifies the position of the item.\n",
    "\n",
    "**PYTHON STARTS INDEXING AT 0** !!! This means the first item of the list is \"item 0\", **NOT** \"item 1.\"\n",
    "\n",
    "For example, for a list with four items, the possible index values are 0,1,2,3.\n",
    "\n",
    "To get an individual value within a list, use the following format  variable[index number]"
   ]
  },
  {
   "cell_type": "code",
   "execution_count": null,
   "metadata": {},
   "outputs": [],
   "source": [
    "#Try it out. Get the 3rd item in your list of RICs.\n",
    "\n",
    "RICS[2]"
   ]
  },
  {
   "cell_type": "code",
   "execution_count": null,
   "metadata": {},
   "outputs": [],
   "source": [
    "#Try it out. What happens if you use an index that exceeds the number of items in your list?\n",
    "\n",
    "RICS[6]"
   ]
  },
  {
   "cell_type": "markdown",
   "metadata": {},
   "source": [
    "#### Negative Indexes\n",
    "\n",
    "You can also use negative integers for the index. The integer value -1 refers to the last index in a list, -2 refers to the second-to-last index in a list, and so on."
   ]
  },
  {
   "cell_type": "code",
   "execution_count": null,
   "metadata": {},
   "outputs": [],
   "source": [
    "# Try it out. Get the first item of the list using negative integers for the index.\n",
    "\n",
    "RICS[-4]"
   ]
  },
  {
   "cell_type": "markdown",
   "metadata": {},
   "source": [
    "### Getting Sublists with Slices\n",
    "\n",
    "A slice can get several items from a list, but in the form of a new list.\n",
    "\n",
    "#### Slice Syntax\n",
    "* A slice is typed between square brackets, like an index\n",
    "* Inside the square brackets, there are two integers separated by a colon\n",
    "* The first integer is the index where the slice starts\n",
    "* The second integer is the index where the slice ends. **A slice goes up to BUT DOES NOT INCLUDE, the value at the second index**\n",
    "* As a shortcut, you can leave out one of the indices on either side of the colon in the slice. Leaving out the first index is the same as using 0 or the beginning of the list. Leaving out the second index is the same as using the length of the list, which will slice to the end of the list"
   ]
  },
  {
   "cell_type": "code",
   "execution_count": null,
   "metadata": {},
   "outputs": [],
   "source": [
    "ExampleSlice = ExampleList[0:2]   #What will be produced?\n",
    "ExampleSlice"
   ]
  },
  {
   "cell_type": "code",
   "execution_count": null,
   "metadata": {},
   "outputs": [],
   "source": [
    "ExampleList[:4]"
   ]
  },
  {
   "cell_type": "code",
   "execution_count": null,
   "metadata": {},
   "outputs": [],
   "source": [
    "ExampleList[0:]"
   ]
  },
  {
   "cell_type": "code",
   "execution_count": null,
   "metadata": {},
   "outputs": [],
   "source": [
    "#Try it out. Create a slice of the middle 2 rics in your list.\n",
    "\n",
    "RICS[1:3]"
   ]
  },
  {
   "cell_type": "markdown",
   "metadata": {},
   "source": [
    "## List Functions\n",
    "\n",
    "### Changing Values in a List with Indexes\n",
    "\n",
    "You can use an index of a list on the left side of an assignment statement to change the item at that index.\n",
    "\n",
    "For example, rics[1] = \"AAPL.O\" will change the second item in your list to the string AAPL.O"
   ]
  },
  {
   "cell_type": "code",
   "execution_count": null,
   "metadata": {},
   "outputs": [],
   "source": [
    "#Try it out. Change the item of the 3rd RIC to another ric.\n",
    "\n",
    "RICS[2] = \"SPCE.K\"\n",
    "\n",
    "#Change your second RIC to the 1st RIC using indexes. \n",
    "\n",
    "RICS[1] = RICS[0]\n",
    "\n",
    "RICS"
   ]
  },
  {
   "cell_type": "markdown",
   "metadata": {},
   "source": [
    "### List Concatenation and Replication\n",
    "Just like strings, you can concatenate and repliate lists to create a bigger list"
   ]
  },
  {
   "cell_type": "code",
   "execution_count": null,
   "metadata": {},
   "outputs": [],
   "source": [
    "[1,2,3] + [\"Python\",\"API\"]"
   ]
  },
  {
   "cell_type": "code",
   "execution_count": null,
   "metadata": {},
   "outputs": [],
   "source": [
    "[1,2,3] * 3"
   ]
  },
  {
   "cell_type": "markdown",
   "metadata": {},
   "source": [
    "### Removing Items from Lists with Del Statements\n",
    "\n",
    "The del statement will delete items at an index in a list. All of the items in the list after the deleted item will be moved up one index"
   ]
  },
  {
   "cell_type": "code",
   "execution_count": null,
   "metadata": {},
   "outputs": [],
   "source": [
    "rics = [\"AAPL.O\",\"GOOGL.O\",\"AMZN.O\",\"V.N\"]\n",
    "\n",
    "del rics[0]\n",
    "rics"
   ]
  },
  {
   "cell_type": "markdown",
   "metadata": {},
   "source": [
    "### Methods\n",
    "\n",
    "A method is an action which an object is able to perform. The method comes after the value, separated by a period\n",
    "\n",
    "#### Removing Items from Lists with remove()\n",
    "\n",
    "The remove method is passed the item to be removed from the list it is called on"
   ]
  },
  {
   "cell_type": "code",
   "execution_count": null,
   "metadata": {},
   "outputs": [],
   "source": [
    "#Try it out. Remove \"GOOGL.O\" from the list rics\n",
    "rics = [\"AAPL.O\",\"GOOGL.O\",\"AMZN.O\",\"V.N\"]\n",
    "\n",
    "rics.remove(\"GOOGL.O\")\n",
    "rics"
   ]
  },
  {
   "cell_type": "markdown",
   "metadata": {},
   "source": [
    "#### Find a value in a list with index()\n",
    "\n",
    "Lists have an index() method that can be passed a value, and if that value exists in the list, the index of the value is returned.\n",
    "\n",
    "If the value isn't in the list, a ValueError is produced"
   ]
  },
  {
   "cell_type": "code",
   "execution_count": null,
   "metadata": {},
   "outputs": [],
   "source": [
    "#Try it out. Where is \"GOOGL.O\" in the list?\n",
    "\n",
    "rics = [\"AAPL.O\",\"GOOGL.O\",\"AMZN.O\",\"V.N\"]\n",
    "\n",
    "rics.index(\"AMZN.O\")"
   ]
  },
  {
   "cell_type": "markdown",
   "metadata": {},
   "source": [
    "## Tuples \n",
    "\n",
    "### Mutable vs. Immutable Data Types\n",
    "\n",
    "A List value is a *mutable* data type: It can have values added, removed, or changed. \n",
    "\n",
    "A string is *immutable*: it cannot be changed. You cannot directly reassign a single character in a string like you can in a list. A tuple is also immutable\n",
    "\n",
    "### What is a Tuple\n",
    "\n",
    "A tuple is almost identical to a list, except in two ways.\n",
    "\n",
    "1. Tuples are typed with parentheses instead of square brackets"
   ]
  },
  {
   "cell_type": "code",
   "execution_count": null,
   "metadata": {},
   "outputs": [],
   "source": [
    "rics1 = ('AAPL.O',\"GOOGL.O\",\"AMZN.O\")\n",
    "\n",
    "rics1[0] = \"GOOGL.O\""
   ]
  },
  {
   "cell_type": "markdown",
   "metadata": {},
   "source": [
    "2. **Tuples are immutable** tuples cannot have their values modified, appended, or removed.\n",
    "\n",
    "#### Why are tuples relevant if I can't edit them?\n",
    "\n",
    "* Tuples (generally) are sequences of different kinds of stuff, and you deal with the tuple as a coherent unit.\n",
    "* Lists (generally) are sequences of the same kind of stuff, and you deal with the items individually.\n",
    "\n",
    "Consider creating a tuple of the different components of a date and time vs. a list of the same thing. Each item has semantic value. The first position is always a year, second a month, etc. If you use a tuple for this use, you can ensure manipulation of the list won't break the code that needs these inputs"
   ]
  },
  {
   "cell_type": "code",
   "execution_count": null,
   "metadata": {},
   "outputs": [],
   "source": [
    "import time\n",
    "\n",
    "time.localtime()"
   ]
  },
  {
   "cell_type": "markdown",
   "metadata": {},
   "source": [
    "## Dictionaries\n",
    "\n",
    "Dictionaries are an extremely important data structure in Python. It provides a flexible way to access and organize data. You will be able to create data structures using dictionaries, as well as eventually learn to work with the JSON format.\n",
    "\n",
    "### What is a Dictionary?\n",
    "A dictionary is a collection of many values, just like a list. While lists have a simple numerical index for their values, dictionaries have indexes that are called keys, which are paired with values. \n",
    "\n",
    "Dictionaries are created using curly brackets {}, as opposed to square brackets [] for lists.\n",
    "\n",
    "### Example of a Dictionary"
   ]
  },
  {
   "cell_type": "code",
   "execution_count": null,
   "metadata": {},
   "outputs": [],
   "source": [
    "Microsoft = {1:\"MSFT.O\",\n",
    "             \"Exchange\":\"NASDAQ\",\n",
    "             \"Price\":151.8,\n",
    "             \"Market_Cap\":1157000000000}\n",
    "\n",
    "Microsoft[1]"
   ]
  },
  {
   "cell_type": "markdown",
   "metadata": {},
   "source": [
    "This assigns a dictionary to the \"Microsoft\" variable. The dictionary's keys are \"RIC\",\"Exchange\",\"Price\",and \"Market_Cap\", and the values are \"MSFT.O\",\"NASDAQ\",151.8, and 1.157 Trillion, respectively. You can access these values through their keys using the syntax variable[\"key\"]"
   ]
  },
  {
   "cell_type": "code",
   "execution_count": null,
   "metadata": {},
   "outputs": [],
   "source": [
    "#Try it out. What is the price of Microsoft? Use the dictionary's key to call on this value\n",
    "\n",
    "Microsoft[\"Market_Cap\"]"
   ]
  },
  {
   "cell_type": "markdown",
   "metadata": {},
   "source": [
    "### Nested Dictionaries and Lists\n",
    "\n",
    "As you model more complicated things, you may find you need dictionaries and lists that contain other dictionaries and lists. \n",
    "\n",
    "Lists are useful to contain an ordered series of values, and dictionaries are useful for associating keys with values.\n",
    "\n",
    "For example, lets create a dictionary storing information for three RICs."
   ]
  },
  {
   "cell_type": "code",
   "execution_count": null,
   "metadata": {},
   "outputs": [],
   "source": [
    "RICS = {\n",
    "        \"Microsoft\": {\"RIC\":\"MSFT.O\",\"Exchange\":\"NASDAQ\",\"Price\":151.8,\"Market_Cap\":1157000000000},\n",
    "        \"Apple\": {\"RIC\":\"AAPL.O\",\"Exchange\":\"NASDAQ\",\"Price\":271.8,\"Market_Cap\":1200000000000},\n",
    "        \"Google\": {\"RIC\":\"GOOGL.O\",\"Exchange\":\"NASDAQ\",\"Price\":1352.08,\"Market_Cap\":927000000000}\n",
    "        }\n",
    "\n",
    "RICS"
   ]
  },
  {
   "cell_type": "markdown",
   "metadata": {},
   "source": [
    "Now, if you want to call on a specific value, you will need two keys. "
   ]
  },
  {
   "cell_type": "code",
   "execution_count": null,
   "metadata": {},
   "outputs": [],
   "source": [
    "#Try it out. What is the price of Google, using the RIC dictionary?\n",
    "\n",
    "RICS[\"Microsoft\"][\"Market_Cap\"]"
   ]
  },
  {
   "cell_type": "markdown",
   "metadata": {},
   "source": [
    "# Code Blocks\n",
    "\n",
    "Lines of Python code can be grouped in blocks. You can tell when a block begins and ends from the indentation of the lines of code.\n",
    "\n",
    "1. Blocks Begin when indentation increases\n",
    "2. Blocks can contain other blocks\n",
    "3. Blocks end when the indentation decreases to zero or a containing block's indentation.\n",
    "\n",
    "Let's try to identify blocks of code in the following example:"
   ]
  },
  {
   "cell_type": "code",
   "execution_count": null,
   "metadata": {},
   "outputs": [],
   "source": [
    "#This is an example: \n",
    "\n",
    "with open('vestekTest.csv','r') as f_in:\n",
    "    for line in f_in:\n",
    "        data = line.rstrip().split(',')\n",
    "        cusip = data[1]\n",
    "        isin = data[2]\n",
    "        cincusip = data[3]\n",
    "        if cusip == '':\n",
    "            if cincusip == '':\n",
    "                symbols.append(isin)\n",
    "            else:\n",
    "                symbols.append(cincusip)\n",
    "        else:\n",
    "            symbols.append(cusip)"
   ]
  },
  {
   "cell_type": "markdown",
   "metadata": {},
   "source": [
    "## Boolean Values and Conditional Statements\n",
    "\n",
    "Often, you will find you will want portions of your code only to be executed if certain conditions are met or are not met. You can use boolean values and conditional statements to test for the validity of a given condition and execute a code block that follows if the condition is valid.\n",
    "\n",
    "### Boolean Values\n",
    "While integer, floating-point, and string data types have an unlimited number of possible values, the Boolean data type has only two values: True and False.\n",
    "\n",
    "Boolean values lack the quotes you see around strings, and begin with a capital T or F, with the rest of the word in lower case.\n",
    "\n",
    "Boolean values are used in expressions and can also be stored in variables."
   ]
  },
  {
   "cell_type": "code",
   "execution_count": null,
   "metadata": {},
   "outputs": [],
   "source": [
    "#Try it out. Use some operators and see what they evaluate down to.\n",
    "\n",
    "(2 == 5) or (3 == 3)"
   ]
  },
  {
   "cell_type": "markdown",
   "metadata": {},
   "source": [
    "### Conditional Statements - IF THIS, THEN THAT\n",
    "\n",
    "In conditional statements, the code tests for the validity of a given condition (Is the boolean value True or False?), and then executes the code block that follows if the condition is valid.\n",
    "\n",
    "#### If Statements\n",
    "\n",
    "An if statement will execute if the statement's condition is True. The clause is skipped if the condition is False.\n",
    "\"If this condition is true, execute the code in the clause.\"\n",
    "\n",
    "An if statement consists of the following:\n",
    "\n",
    "1. The \"if\" keyword\n",
    "2. A condition (an expression that evaluates to True or False)\n",
    "3. A colon\n",
    "4. Starting on the next line, an indented block of code (the if clause)\n",
    "\n",
    "#### Else Statements\n",
    "\n",
    "An if clause can be optionally followed by an else statement. The else statement is executed only when the if statement's condition is False.\n",
    "\n",
    "\"If this condition is true, execute this code. Or else, execute that code.\"\n",
    "\n",
    "An else statement doesn't have a condition.\n",
    "\n",
    "An else statement consists of the following\n",
    "1. The \"else\" keyword\n",
    "2. A colon\n",
    "3. Starting on the next line, an indented block of code (called the else clause)"
   ]
  },
  {
   "cell_type": "code",
   "execution_count": null,
   "metadata": {},
   "outputs": [],
   "source": [
    "# Try it out. Assign a numeric value to variable x. Then create an if statement that executes the following: \n",
    "# \"If x is greater than 3, then subtract 1 from x, or else add 1 to x.\"\"\n",
    "\n",
    "x = 9\n",
    "\n",
    "if x > 3:\n",
    "    x = x-1\n",
    "else:\n",
    "    x = x+1\n",
    "\n",
    "x"
   ]
  },
  {
   "cell_type": "markdown",
   "metadata": {},
   "source": [
    "#### ELIF Statements - nesting if statements!\n",
    "\n",
    "The elif statement is an \"else if\" statement that always follows an if or another elif statement.\n",
    "It provides another condition that is checked only if all of the previous conditions were False.\n",
    "\n",
    "An elif statement consists of the following\n",
    "1. The \"elif\" keyword\n",
    "2. A condition (an expression that evaluates to True or False)\n",
    "3. A colon\n",
    "4. Starting on the next line, an indented block of code (the elif clause)"
   ]
  },
  {
   "cell_type": "code",
   "execution_count": null,
   "metadata": {},
   "outputs": [],
   "source": [
    "# Try it out. Assign a numeric value to x. Then create a conditional statement that executes the following:\n",
    "# If x is less then 10, print \"This is a small number\"\n",
    "# If x is less than 50, print \"This is a big number\"\n",
    "# or else print \"This is a HUGE number!\"\n",
    "\n",
    "x= 25\n",
    "\n",
    "if x < 10:\n",
    "    print(\"This is a small number\")\n",
    "elif x < 50:\n",
    "    print(\"This is a big number\")\n",
    "else:\n",
    "    print(\"This is a HUGE number!\")"
   ]
  },
  {
   "cell_type": "markdown",
   "metadata": {},
   "source": [
    "## For Loops\n",
    "\n",
    "What if you want to execute a block of code only a certain number of times? You can do this with a for loop and the range() function. \n",
    "\n",
    "A for statement with the range function always includes:\n",
    "1. The \"for\" keyword\n",
    "2. A variable name\n",
    "3. The \"in\" keyword\n",
    "4. A call to the range() method with up to three integers passed through it\n",
    "5. a colon\n",
    "6. Starting on the next line, an indented block of code (the for clause)\n",
    "\n",
    "#### The Range() Function\n",
    "The range() function can be passed three arguments. Ex. range(0,10,2)\n",
    "\n",
    "The first argument will be where the for loop's variable starts.\n",
    "\n",
    "The second argument will be where the for loop will stop, but not including that number\n",
    "\n",
    "The third variable will be the step argument. The step is the amount that the variable is increased by after each iteration.\n",
    "\n",
    "In the example range(0,10,2), will count from zero to eight by intervals of two"
   ]
  },
  {
   "cell_type": "code",
   "execution_count": null,
   "metadata": {},
   "outputs": [],
   "source": [
    "# Try it out. Create a for loop printing \"This is iteration _\" for every even number from 0 to 10 (number fills in blank)\n",
    "\n",
    "for i in range(0,10):\n",
    "    print(\"This is iteration \", i)"
   ]
  },
  {
   "cell_type": "code",
   "execution_count": null,
   "metadata": {},
   "outputs": [],
   "source": [
    "#Try it out. Create a list of 5 objects. Use a for loop to iterate through the list and print each item in the list.\n",
    "\n",
    "test_list = [5, \"apple\", \"orange\", 6, 19]\n",
    "\n",
    "for i in test_list:\n",
    "    print(i)"
   ]
  },
  {
   "cell_type": "code",
   "execution_count": null,
   "metadata": {},
   "outputs": [],
   "source": [
    "x = [print(i) for i in test_list]\n",
    "x"
   ]
  },
  {
   "cell_type": "code",
   "execution_count": null,
   "metadata": {},
   "outputs": [],
   "source": [
    "#NESTED FOR LOOPS EXAMPLE\n",
    "# This is a list of lists. to iterate through each nested list, use nested for statements\n",
    "\n",
    "ric = [[5,3,2, 1],[7,3,6,2,8],[1,7,2,8]]\n",
    "ric\n",
    "\n",
    "for i in ric:\n",
    "    for z in i:\n",
    "        print(z)\n",
    "    print(\"All Done!\")"
   ]
  },
  {
   "cell_type": "markdown",
   "metadata": {},
   "source": [
    "# Python Modules\n",
    "\n",
    "Beyond the standard library of modules packaged with Python, other developers have written their modules to extend Python’s capabilities even further. \n",
    "\n",
    "The basic packages for data science are pandas, NumPy, Seaborn, Matplotlib, and scikit-Learn.\n",
    "\n",
    "There are modules great for web scrapping, such as BeautifulSoup."
   ]
  },
  {
   "cell_type": "code",
   "execution_count": null,
   "metadata": {},
   "outputs": [],
   "source": [
    "import numpy as np\n",
    "import pandas as pd\n",
    "import matplotlib as plt"
   ]
  },
  {
   "cell_type": "code",
   "execution_count": null,
   "metadata": {},
   "outputs": [],
   "source": [
    "import warnings \n",
    "warnings.filterwarnings('ignore')"
   ]
  },
  {
   "cell_type": "markdown",
   "metadata": {},
   "source": [
    "## NumPy Package\n",
    "\n",
    "Link: https://numpy.org\n",
    "\n",
    "NumPy brings the computational power of languages like C and Fortran to Python, a language much easier to learn and use. With this power comes simplicity: a solution in NumPy is often clear and elegant.\n",
    "\n",
    "\n",
    "NumPy lies at the core of a rich ecosystem of data science libraries. A typical exploratory data science workflow might look like:\n",
    "\n",
    "- Extract, Transform, Load: Pandas, Intake, PyJanitor\n",
    "- Exploratory analysis: Jupyter, Seaborn, Matplotlib, Altair\n",
    "- Model and evaluate: scikit-learn, statsmodels, PyMC3, spaCy\n",
    "- Report in a dashboard: Dash, Panel, Voila"
   ]
  },
  {
   "cell_type": "code",
   "execution_count": null,
   "metadata": {},
   "outputs": [],
   "source": [
    "import numpy as np\n",
    "\n",
    "a = [1,2,3,4,5]\n",
    "b = np.array(a)\n",
    "type(b)"
   ]
  },
  {
   "cell_type": "code",
   "execution_count": null,
   "metadata": {},
   "outputs": [],
   "source": [
    "a.sum()"
   ]
  },
  {
   "cell_type": "markdown",
   "metadata": {},
   "source": [
    "## Pandas DataFrame \n",
    "\n",
    "Link: https://pandas.pydata.org\n",
    "\n",
    "We will now focus on the Pandas Module. Pandas stands for Python Data Analysis Library. Pandas is a game changer with analyzing data with python and is one of the most preferred tools in data analysis, cleaning, transformation, etc. \n",
    "\n",
    "IN FACT, by default, The Eikon API outputs data into a Pandas DataFrame!"
   ]
  },
  {
   "cell_type": "code",
   "execution_count": null,
   "metadata": {},
   "outputs": [],
   "source": [
    "import pandas as pd"
   ]
  },
  {
   "cell_type": "markdown",
   "metadata": {},
   "source": [
    "### Use Cases\n",
    "\n",
    "If you want to explore a dataset stored in a CSV on your computer, you can extract that data from the CSV directly into a DataFrame, then do things like:\n",
    "\n",
    "- Calculate statistics about the data\n",
    "- Clean the data by doing things like removing missing values and filtering rows or columns\n",
    "- Visualize the data with help from other packages like Matplotlib\n",
    "- Store the cleaned, transformed data back into a CSV or other file"
   ]
  },
  {
   "cell_type": "markdown",
   "metadata": {},
   "source": [
    "### Core Components of Pandas\n",
    "\n",
    "#### Series\n",
    "A series is essentially a column of data"
   ]
  },
  {
   "cell_type": "code",
   "execution_count": null,
   "metadata": {},
   "outputs": [],
   "source": [
    "c = pd.Series(a)\n",
    "c"
   ]
  },
  {
   "cell_type": "markdown",
   "metadata": {},
   "source": [
    "#### DataFrame\n",
    "A dataframe is a multi-dimensional table made up of a collection of series. "
   ]
  },
  {
   "cell_type": "code",
   "execution_count": null,
   "metadata": {},
   "outputs": [],
   "source": [
    "d = pd.DataFrame(a)\n",
    "d"
   ]
  },
  {
   "cell_type": "markdown",
   "metadata": {},
   "source": [
    "## Importing Data"
   ]
  },
  {
   "cell_type": "markdown",
   "metadata": {},
   "source": [
    "### Creating a DataFrame from a CSV file\n",
    "\n",
    "Rather than creating your DataFrame, you often will already have a file containing your data, usually in an Excel file. You can import this data into Python!\n",
    "\n",
    "IMPORTANT: This file must be saved in your working directory.\n",
    "\n",
    "To read a .csv file from your working directory, you will use the pd.read_csv function. To read excel files, use the pd.read_excel function, which can also read CSV files"
   ]
  },
  {
   "cell_type": "code",
   "execution_count": null,
   "metadata": {},
   "outputs": [],
   "source": [
    "#Try it out. Read in the file \"Russell2000_Data.csv\" into the variable APIData\n",
    "\n",
    "#data = pd.read_csv(\"Russell2000_Data.csv\")\n",
    "#data"
   ]
  },
  {
   "cell_type": "markdown",
   "metadata": {},
   "source": [
    "For the pd.read_excel function, you will need to create a new variable that will store the DataFrame. Within the parenthesis, you will need to reference the file name, INCLUDING .csv,—xlsx, etc. within the quotations. If you are reading an excel file with multiple tabs, use the sheet_name parameter to specify which sheet. Strings are used for sheet names, and integers are used in zero-indexed sheet positions. \n",
    "\n",
    "This will load your excel file into a Pandas DataFrame\n",
    "\n",
    "There are other parameters you can use for a more efficient import if your data in the excel file is structured differently. You can find help for the other parameters here: https://pandas.pydata.org/pandas-docs/stable/reference/api/pandas.read_excel.html"
   ]
  },
  {
   "cell_type": "markdown",
   "metadata": {},
   "source": [
    "### Writing Pandas DataFrames to .csv or Excel files\n",
    "\n",
    "Once you have manipulated, transformed, etc., your data within a Pandas DataFrame, you will want to export this DataFrame, or else it will be lost once you close your program. This can be done with a similar function to .read_csv, .to_csv\n",
    "\n",
    ".to_csv operates similarly to .read_csv\n",
    "\n",
    "The format is as follows:\n",
    "1. At the end of the variable holding the DataFrame, attach the method .to_csv().\n",
    "2. Within the parenthesis, in quotations, name what you want the .csv file to be, INCLUDING .csv at the end of the file name\n",
    "3. You cannot overwrite a .csv file already existing in your directory\n",
    "\n",
    "Explore https://pandas.pydata.org/pandas-docs/stable/reference/api/pandas.DataFrame.to_csv.html to find other parameters to use with .to_csv()\n",
    "\n",
    "Follow a similar process to convert files to excel as well, using .to_excel \n",
    "https://pandas.pydata.org/pandas-docs/stable/reference/api/pandas.DataFrame.to_excel.html"
   ]
  },
  {
   "cell_type": "code",
   "execution_count": null,
   "metadata": {},
   "outputs": [],
   "source": [
    "#Try it out. Write your Pandas DataFrame to an xlsx file. \n",
    "# Check if it was created in your directory!\n",
    "\n",
    "#data.to_csv(\"test_file_output.csv\")"
   ]
  },
  {
   "cell_type": "code",
   "execution_count": null,
   "metadata": {},
   "outputs": [],
   "source": []
  },
  {
   "cell_type": "markdown",
   "metadata": {},
   "source": [
    "## DataFrame Operations"
   ]
  },
  {
   "cell_type": "markdown",
   "metadata": {},
   "source": [
    "There is a section below regarding the different data sources that we may choose. For now, we want to show you the operations that allow you to investigate your data. "
   ]
  },
  {
   "cell_type": "markdown",
   "metadata": {},
   "source": []
  },
  {
   "cell_type": "markdown",
   "metadata": {},
   "source": [
    "DataFrames have hundreds of methods and other operations that are important. As a beginner, you should know the operations that provide simple analysis and to perform simple transformations.\n",
    "\n",
    "\n",
    "### Viewing your data\n",
    "\n",
    "##### .head() and .tail()\n",
    "\n",
    ".head() method allows you to print out a few rows at the top of your DataFrame. This is often usually to do a quick check if your column headers are correct and if the data in your table is in the desired format.\n",
    "\n",
    ".tail() allow you to see the last five rows of your data. This is useful to see if the data most recently added is not corrupted or invalid.\n",
    "\n",
    ".tail and .head also accepts a number as an argument in the parenthesis. This number will say \"Print the top/bottom x rows.\""
   ]
  },
  {
   "cell_type": "code",
   "execution_count": null,
   "metadata": {},
   "outputs": [],
   "source": []
  },
  {
   "cell_type": "markdown",
   "metadata": {},
   "source": [
    "#### Getting info about your data"
   ]
  },
  {
   "cell_type": "markdown",
   "metadata": {},
   "source": [
    "##### .info()\n",
    "\n",
    "The .info() provides you with essential information about your dataset, such as size, the number of null values, what data type in each column, and the memory your DataFrame is using.\n",
    "\n",
    "This is very useful, especially for data types. Before you embark on cleaning up your data and transforming it, it would be helpful to know what data type is stored."
   ]
  },
  {
   "cell_type": "code",
   "execution_count": null,
   "metadata": {},
   "outputs": [],
   "source": []
  },
  {
   "cell_type": "markdown",
   "metadata": {},
   "source": [
    "##### .describe()\n",
    "\n",
    "The .describe() will give you a summary of the distribution of continuous variables (such as price)"
   ]
  },
  {
   "cell_type": "code",
   "execution_count": null,
   "metadata": {},
   "outputs": [],
   "source": []
  },
  {
   "cell_type": "markdown",
   "metadata": {},
   "source": [
    "##### .shape()\n",
    ".shape also outputs just a tuple of (rows,columns) in your dataset"
   ]
  },
  {
   "cell_type": "code",
   "execution_count": null,
   "metadata": {},
   "outputs": [],
   "source": []
  },
  {
   "cell_type": "markdown",
   "metadata": {},
   "source": [
    "#### Working with Missing Values\n",
    "You'll likely encounter missing values regularly when using the API, shows as NaN or Null, which are placeholders for missing values.\n",
    "\n",
    "When you have missing values, you can either\n",
    "1. Get rid of the rows or columns with nulls\n",
    "2. Replace nulls with non-null values\n",
    "3. Leave them alone\n",
    "\n",
    "##### Checking with values are null with .isnull()\n",
    "\n",
    ".isnull() will simply return each row that has a null value as True if it is null, or False if it is not null\n",
    "\n",
    "To count how many nulls we have in each column, use .sum() as well after .isnull()"
   ]
  },
  {
   "cell_type": "code",
   "execution_count": null,
   "metadata": {},
   "outputs": [],
   "source": [
    "df.isnull()"
   ]
  },
  {
   "cell_type": "code",
   "execution_count": null,
   "metadata": {},
   "outputs": [],
   "source": [
    "df.isnull().sum()"
   ]
  },
  {
   "cell_type": "code",
   "execution_count": null,
   "metadata": {},
   "outputs": [],
   "source": []
  },
  {
   "cell_type": "markdown",
   "metadata": {},
   "source": [
    "##### Removing Null Values\n",
    "\n",
    "Removing Null values are only recommended if you only have a small amount of missing data. In our case, we have 1235 values, and only 25 values are null.\n",
    "\n",
    "Remove nulls with .dropna()\n",
    "\n",
    "This method will delete any row with at least a single null value, but will return a new DataFrame without altering the original. If you want to replace the original dataset with the one without nulls, simply use .dropna(inplace=True)\n",
    "\n",
    "Other than dropping rows, you can also drop columns with null values by setting the parameter axis to 1 inside the parenthesis. Ex. APIData.dropna(inplace=True,axis=1)"
   ]
  },
  {
   "cell_type": "code",
   "execution_count": null,
   "metadata": {},
   "outputs": [],
   "source": [
    "#Try it out. Use dropna() to drop the nan values from the DataFrame. Use .info to check if the values were dropped.\n",
    "#Is this the best practice for this dataset? \n",
    "\n",
    "df.dropna(axis=0,inplace = True)"
   ]
  },
  {
   "cell_type": "markdown",
   "metadata": {},
   "source": [
    "##### Filling Null Values\n",
    "\n",
    "\n",
    ".fillna() is a method that will replace null values with the desired value.\n",
    "\n",
    "You may want to fill these with 0s, or with the mean of that column in the DataFrame! You can use .describe() to get information about the distribution of the dataset.\n",
    "\n",
    "Using .fillna(), the parameters you will use is the value you want to replace null values, and inplace = True"
   ]
  },
  {
   "cell_type": "markdown",
   "metadata": {},
   "source": [
    "#### .drop method to drop a column or row"
   ]
  },
  {
   "cell_type": "code",
   "execution_count": null,
   "metadata": {},
   "outputs": [],
   "source": [
    "df.drop('', axis = 1, inplace = True)"
   ]
  },
  {
   "cell_type": "code",
   "execution_count": null,
   "metadata": {},
   "outputs": [],
   "source": [
    "df.fillna(0)"
   ]
  },
  {
   "cell_type": "markdown",
   "metadata": {},
   "source": [
    "### Retrieving Data From DataFrame"
   ]
  },
  {
   "cell_type": "markdown",
   "metadata": {},
   "source": [
    "Retrieve All Rows and all Columns"
   ]
  },
  {
   "cell_type": "code",
   "execution_count": null,
   "metadata": {},
   "outputs": [],
   "source": []
  },
  {
   "cell_type": "markdown",
   "metadata": {},
   "source": [
    "Retrieve A Specific Number Of Rows (i.e: 5) With All Columns"
   ]
  },
  {
   "cell_type": "code",
   "execution_count": null,
   "metadata": {},
   "outputs": [],
   "source": []
  },
  {
   "cell_type": "markdown",
   "metadata": {},
   "source": [
    "Retrieve A Specific Column"
   ]
  },
  {
   "cell_type": "code",
   "execution_count": null,
   "metadata": {},
   "outputs": [],
   "source": []
  },
  {
   "cell_type": "markdown",
   "metadata": {},
   "source": [
    "Slice By Retrieve Only Instrument And Revenue"
   ]
  },
  {
   "cell_type": "code",
   "execution_count": null,
   "metadata": {},
   "outputs": [],
   "source": []
  },
  {
   "cell_type": "markdown",
   "metadata": {},
   "source": [
    "Retrieve A Specific Row and a Specific Column"
   ]
  },
  {
   "cell_type": "code",
   "execution_count": null,
   "metadata": {},
   "outputs": [],
   "source": []
  },
  {
   "cell_type": "markdown",
   "metadata": {},
   "source": [
    "## Matplotlib And Seaborn For Visualization\n",
    "\n",
    "Link: https://matplotlib.org\n",
    "\n",
    "Matplotlib and seaborn are useful to visualize data before doing further analysis."
   ]
  },
  {
   "cell_type": "code",
   "execution_count": null,
   "metadata": {},
   "outputs": [],
   "source": [
    "import matplotlib.pyplot as plt\n",
    "import seaborn as sns"
   ]
  },
  {
   "cell_type": "code",
   "execution_count": null,
   "metadata": {},
   "outputs": [],
   "source": [
    "df.plot()"
   ]
  },
  {
   "cell_type": "markdown",
   "metadata": {},
   "source": [
    "## Other EDA: Explanatory Data Analysis \n",
    "\n",
    "##### Correlation\n",
    "\n",
    "Simply using .corr() will generate a matrix that shows the relationship  between each continious variable\n",
    "\n",
    "(This seems to not work in codebook)"
   ]
  },
  {
   "cell_type": "code",
   "execution_count": null,
   "metadata": {},
   "outputs": [],
   "source": [
    "df.corr()"
   ]
  },
  {
   "cell_type": "code",
   "execution_count": null,
   "metadata": {},
   "outputs": [],
   "source": [
    "#Try it out. Create a correlation matrix of data\n",
    "\n",
    "sns.heatmap(df.corr())"
   ]
  },
  {
   "cell_type": "code",
   "execution_count": null,
   "metadata": {},
   "outputs": [],
   "source": [
    "df.plot(kind='kde')"
   ]
  },
  {
   "cell_type": "markdown",
   "metadata": {},
   "source": [
    "### Data Cleaning Tips"
   ]
  },
  {
   "cell_type": "code",
   "execution_count": null,
   "metadata": {},
   "outputs": [],
   "source": [
    "df['Date'] = pd.to_datetime(df['Date'])"
   ]
  },
  {
   "cell_type": "code",
   "execution_count": null,
   "metadata": {},
   "outputs": [],
   "source": []
  },
  {
   "cell_type": "code",
   "execution_count": null,
   "metadata": {},
   "outputs": [],
   "source": [
    "df.set_index('Date', inplace=True) "
   ]
  },
  {
   "cell_type": "code",
   "execution_count": null,
   "metadata": {},
   "outputs": [],
   "source": []
  },
  {
   "cell_type": "code",
   "execution_count": null,
   "metadata": {},
   "outputs": [],
   "source": [
    "df.index = df.index.map(lambda t: t.strftime('%Y-%m-%d'))"
   ]
  },
  {
   "cell_type": "code",
   "execution_count": null,
   "metadata": {},
   "outputs": [],
   "source": []
  },
  {
   "cell_type": "code",
   "execution_count": null,
   "metadata": {},
   "outputs": [],
   "source": [
    "df.columns = map(str.lower, df.columns)"
   ]
  },
  {
   "cell_type": "code",
   "execution_count": null,
   "metadata": {},
   "outputs": [],
   "source": []
  },
  {
   "cell_type": "code",
   "execution_count": null,
   "metadata": {},
   "outputs": [],
   "source": []
  }
 ],
 "metadata": {
  "kernelspec": {
   "display_name": "Python 3",
   "language": "python",
   "name": "python3"
  },
  "language_info": {
   "codemirror_mode": {
    "name": "ipython",
    "version": 3
   },
   "file_extension": ".py",
   "mimetype": "text/x-python",
   "name": "python",
   "nbconvert_exporter": "python",
   "pygments_lexer": "ipython3",
   "version": "3.7.4"
  }
 },
 "nbformat": 4,
 "nbformat_minor": 4
}
