{
 "cells": [
  {
   "cell_type": "markdown",
   "metadata": {},
   "source": [
    "# Using the Eikon Data API\n",
    "\n",
    "Any Eikon end user, where the data doesn’t leave the desktop, can use this API to access their Eikon data more flexibly.\n",
    "\n",
    "## Eikon API Authentication: Using the APP KEY Application\n",
    "\n",
    "Before you can use the Eikon API, you must first create an Application Key in Eikon .This key is used for Authentication, proof that you are who you say you are and that you are permissioned to view the data you are seeking to retrieve. The application is linked to your Eikon account, so whatever permissions you have on Eikon to view certain data will also apply to what you can view using the API (if that data is available via the API). \n",
    "\n",
    "#### Open the APP KEY Application in Eikon or Refinitiv Workspace.\n",
    "\n",
    "To create a new Application Key, under Register Application, enter a name for your Application key in \"App Display Name\". \n",
    "\n",
    "Additionally, Check all 3 boxes: \"Eikon Data API\", \"Side by Side API\", \"EDP API\". \n",
    "\n",
    "Finally, click \"Register New App\" to complete creating your App Key for the Eikon DAPI.\n",
    "\n",
    "The App Key will be generated below \"Manage Applications\"\n",
    "\n",
    "### Best Eikon Apps for Content Help\n",
    "\n",
    "1. Developer Community (DEVCOMM) \n",
    "2. Data Item Browser (DIB) \n",
    "3. Related Securities (RLTD)\n",
    "4. What is this Ric? (META) \n",
    "\n",
    "The following is a useful guide on how to uncover the metadata behind Eikon Excel templates.\n",
    "https://tinyurl.com/tvygoav\n",
    "\n",
    "# Accessing the API in Python\n",
    "\n",
    "First, you must import the eikon and pandas libraries into your IDE. I have imported others that prove to be useful for anaylsis after using the API"
   ]
  },
  {
   "cell_type": "code",
   "execution_count": null,
   "metadata": {},
   "outputs": [],
   "source": [
    "import eikon as ek\n",
    "import numpy as np\n",
    "import pandas as pd\n",
    "import configparser as cp"
   ]
  },
  {
   "cell_type": "markdown",
   "metadata": {},
   "source": [
    "### Authenticating your App Key\n",
    "\n",
    "Next, you must pass your App Key to be able to use the API. \n",
    "\n",
    "Use the set_app_key function, passing your App Key as a string as your only parameter. Remember, because this is an imported library, you must use \"ek.\" to use Eikon libary functions"
   ]
  },
  {
   "cell_type": "code",
   "execution_count": null,
   "metadata": {},
   "outputs": [],
   "source": [
    "app_key = \"YOUR APP KEY HERE\"\n",
    "\n",
    "ek.set_app_key(app_key)"
   ]
  },
  {
   "cell_type": "markdown",
   "metadata": {},
   "source": [
    "You can confirm that the function was successful if you do not receive an error messsage, but the get_app_key() function can help you verify as well"
   ]
  },
  {
   "cell_type": "code",
   "execution_count": null,
   "metadata": {},
   "outputs": [],
   "source": [
    "ek.get_app_key()"
   ]
  },
  {
   "cell_type": "markdown",
   "metadata": {},
   "source": [
    "## Understanding the many Eikon API Endpoints\n",
    "\n",
    "The Eikon library has several functions that are various endpoints used to access the different datasets within Eikon.\n",
    "\n",
    "The 5 most important functions we will explore today are:\n",
    "\n",
    "1. get_symbology\n",
    "2. get_data\n",
    "3. get_timeseries\n",
    "4. get_news_headlines\n",
    "5. get_news_story\n",
    "\n",
    "But there are several other functions that deal with the more technical settings of the API (set_port_number, get_json_request, etc.) that can be found in the API Documentation\n",
    "\n",
    "### 1. get_symbology\n",
    "\n",
    "get_symbology returns a list of instrument names converted into another instrument code"
   ]
  },
  {
   "cell_type": "code",
   "execution_count": null,
   "metadata": {},
   "outputs": [],
   "source": [
    "help(ek.get_symbology)"
   ]
  },
  {
   "cell_type": "code",
   "execution_count": null,
   "metadata": {},
   "outputs": [],
   "source": [
    "RICS = [\"AAPL.O\",\"GOOG.O\",\"TSLA.O\"]\n",
    "\n",
    "symbology = ek.get_symbology(RICS)\n",
    "symbology\n",
    "\n",
    "symbology"
   ]
  },
  {
   "cell_type": "code",
   "execution_count": null,
   "metadata": {},
   "outputs": [],
   "source": [
    "# Try it out.\n",
    "# Create a list of RICS, of both Equities and other instruments.\n",
    "# Use the get_symbology function to return different identifiers for the list.\n"
   ]
  },
  {
   "cell_type": "code",
   "execution_count": null,
   "metadata": {},
   "outputs": [],
   "source": [
    "# Try it Out.\n",
    "# Use additional parameters to_symbol_type and from_symbol_types\n",
    "\n"
   ]
  },
  {
   "cell_type": "markdown",
   "metadata": {},
   "source": [
    "### Returns from the Eikon API and optional parameters\n",
    "\n",
    "Eikon API uses Pandas Dataframes as the default return value. All reutrns from any request by default will be stored in a Pandas Dataframe. This is for simplicity of viewing your data. The alternative is to view the data in json formats.\n",
    "\n",
    "While also easy to use, large data sets can get confusing when stored in a JSON format. However, if that is required, you can use the optional parameter raw_output. This is a boolean parameter that is by default set to False, which returns a pandas dataframe. Use \"raw_output = True\" in any of the five functions to get your data request in JSON format"
   ]
  },
  {
   "cell_type": "code",
   "execution_count": null,
   "metadata": {},
   "outputs": [],
   "source": [
    "# Try it out. Use the get_symbology function, but set the raw_output parameter to True.\n",
    "# What happened to the output?"
   ]
  },
  {
   "cell_type": "code",
   "execution_count": null,
   "metadata": {},
   "outputs": [],
   "source": [
    "#Pandas Dataframe columns are Pandas series when you pull them out.\n",
    "#If you want to convert your output into a list, use .tolist()\n",
    "\n",
    "#Try it out. Convert the output of your get_symbology call to a list.\n"
   ]
  },
  {
   "cell_type": "markdown",
   "metadata": {},
   "source": [
    "## 2. get_timeseries\n",
    "\n",
    "This function allows you to retrieve historical data on instruments. \n",
    "\n",
    "For this function, you will need the following parameters\n",
    "\n",
    "Required:\n",
    "1. rics\n",
    "2. fields - Available fields are found in using the help function.\n",
    "3. start_date - in a string or datetime format (https://docs.python.org/3/library/datetime.html)\n",
    "\n",
    "Optional\n",
    "1. end_date if you do not put an end_date, the default is datetime.now()\n",
    "2. interval - possible values found in help\n",
    "3. count - max number of data points to retrieve\n",
    "4. calendar\n",
    "5. corax\n",
    "6. normalize\n",
    "7. raw_output\n",
    "8. debug"
   ]
  },
  {
   "cell_type": "code",
   "execution_count": null,
   "metadata": {},
   "outputs": [],
   "source": [
    "help(ek.get_timeseries)"
   ]
  },
  {
   "cell_type": "code",
   "execution_count": null,
   "metadata": {},
   "outputs": [],
   "source": [
    "RICS = [\"AAPL.O\",\"GOOG.O\",\"TSLA.O\"]\n",
    "\n",
    "timeseriesdata = ek.get_timeseries(RICS,\n",
    "                                   start_date = \"2019-03-15\",\n",
    "                                   end_date = \"2020-01-17\"\n",
    "                                   )"
   ]
  },
  {
   "cell_type": "code",
   "execution_count": null,
   "metadata": {},
   "outputs": [],
   "source": [
    "# Try it out. Use the get_timeseries function, specifying only the start_date and end_date parameters. \n",
    "# What is the output? What is the frequency of the data?\n"
   ]
  },
  {
   "cell_type": "code",
   "execution_count": null,
   "metadata": {},
   "outputs": [],
   "source": [
    "#Try it out. Use get_timeseries for the same period, but now specify which fields to return, as well as a frequency.\n",
    "\n",
    "\n"
   ]
  },
  {
   "cell_type": "markdown",
   "metadata": {},
   "source": [
    "## 3. get_data\n",
    "\n",
    "This is arguably the most used function in this library. This function can be used to retrieve items found in the Data Item Browser. This function provides current and historical (when available) data.\n",
    "\n",
    "You can retrieve a variety of information using this function: Company Name, ESG Scores, Latest Bid and Ask Price, Market Cap, CEO, Fundamentals, Z-Spread, G-Spread, Technical Analysis, etc.\n"
   ]
  },
  {
   "cell_type": "code",
   "execution_count": null,
   "metadata": {},
   "outputs": [],
   "source": [
    "help(ek.get_data)"
   ]
  },
  {
   "cell_type": "code",
   "execution_count": null,
   "metadata": {},
   "outputs": [],
   "source": [
    "data,err = ek.get_data(RICS,\"TR.PriceClose\")\n",
    "data"
   ]
  },
  {
   "cell_type": "code",
   "execution_count": null,
   "metadata": {},
   "outputs": [],
   "source": [
    "# Try it out. Use the get_data function to retrieve \"TR.PriceClose\" for your list of securities.\n",
    "\n",
    "\n"
   ]
  },
  {
   "cell_type": "markdown",
   "metadata": {},
   "source": [
    "You can use lists for both instruments and fields"
   ]
  },
  {
   "cell_type": "code",
   "execution_count": null,
   "metadata": {},
   "outputs": [],
   "source": [
    "#Try it out Use get_data to retrieve TRBC Business sector, EBITDA, and CF_ASK for your list of securities.\n",
    "\n"
   ]
  },
  {
   "cell_type": "code",
   "execution_count": null,
   "metadata": {},
   "outputs": [],
   "source": [
    "data_1"
   ]
  },
  {
   "cell_type": "code",
   "execution_count": null,
   "metadata": {},
   "outputs": [],
   "source": [
    "err1"
   ]
  },
  {
   "cell_type": "markdown",
   "metadata": {},
   "source": [
    "### Adding Parameters to your request\n",
    "\n",
    "#### Method 1: DIB Syntax\n",
    "\n",
    "This is useful is you want to specify different parameters for each data item. Additionally, using this method allows you to copy and paste the exact syntax that is created in the bottom right corner of the DIB. "
   ]
  },
  {
   "cell_type": "code",
   "execution_count": null,
   "metadata": {},
   "outputs": [],
   "source": [
    "data_1, err1 = ek.get_data(RICS,\n",
    "                           [\"TR.TRBCBusinessSector\",\n",
    "                            \"TR.EBITDA(Period=FY0,Curn=CAD,Scale=6)\",   ## THIS LINE HERE\n",
    "                            \"CF_ASK\"]\n",
    "                          )"
   ]
  },
  {
   "cell_type": "markdown",
   "metadata": {},
   "source": [
    "#### Method 2: Global Parameters\n",
    "\n",
    "After listing fields, a dictionary of parameters for all fields can be added to modify your request. To request for past values of those data items that have timeseries data, SDate, EDate, and Frq can be used."
   ]
  },
  {
   "cell_type": "code",
   "execution_count": null,
   "metadata": {},
   "outputs": [],
   "source": [
    "ts,e = ek.get_data(RICs,[\"TR.PriceClose.date\",\"TR.PriceClose\",\n",
    "                         \"TR.TotalReturn1Mo\"],\n",
    "                       {'SDate':start_date,'EDate':end_date,'Frq':'D'})\n",
    "ts"
   ]
  },
  {
   "cell_type": "markdown",
   "metadata": {},
   "source": [
    "#### Method 3:  Dictionary of Parameters\n",
    "\n",
    "Another alternative method (not preferred) is to modify the data item using dictionaries. Inside the fields parameter, to add parameters to a specific item, Create a dictionary where the key is the Data Item code, and the value is another dictionary whose first key is \"params\". The values of this dictionary will be another dictionary whose key values are the parameter names and the values are the values for the parameter you want. The additional keys in the second dictionary can be parameters regarding how to sort the columns according to this data item.\n",
    "\n",
    "As you can see this process can become very complicated and confusing. It is recommended the first alternative method is used."
   ]
  },
  {
   "cell_type": "code",
   "execution_count": null,
   "metadata": {},
   "outputs": [],
   "source": [
    "data_3,err3 = ek.get_data(Stock_RICS,\n",
    "                          [\"TR.TRBCBusinessSector\",\n",
    "                           \"TR.EBITDA\",\n",
    "                           \"CF_ASK\",{\"TR.GrossProfit\":{\"params\":{\"Scale\": 6, \"Curn\": \"USD\"},\"sort_dir\": \"asc\"}} ## HERE\n",
    "                          ])\n",
    "\n",
    "data_3"
   ]
  },
  {
   "cell_type": "markdown",
   "metadata": {},
   "source": [
    "#### .set_index\n",
    "\n",
    "set_index is in the pandas dataframe. set_index will Set the DataFrame index (row labels) using one or more existing columns or arrays (of the correct length). The index can replace the existing index or expand on it."
   ]
  },
  {
   "cell_type": "code",
   "execution_count": null,
   "metadata": {},
   "outputs": [],
   "source": [
    "data_3.set_index(\"Instrument\")"
   ]
  },
  {
   "cell_type": "markdown",
   "metadata": {},
   "source": [
    "## get_news_headlines and get_news_story"
   ]
  },
  {
   "cell_type": "code",
   "execution_count": null,
   "metadata": {},
   "outputs": [],
   "source": [
    "help(ek.get_news_headlines)"
   ]
  },
  {
   "cell_type": "code",
   "execution_count": null,
   "metadata": {},
   "outputs": [],
   "source": [
    "headlines = ek.get_news_headlines(\"TRUMP OR SANDERS OR WARREN AND ECONOMY AND Language:ENG\", count=100,date_from=\"2019-12-01\",date_to=\"2019-12-25\")\n",
    "\n",
    "headlines"
   ]
  },
  {
   "cell_type": "code",
   "execution_count": null,
   "metadata": {},
   "outputs": [],
   "source": [
    "help(ek.get_news_story)"
   ]
  },
  {
   "cell_type": "code",
   "execution_count": null,
   "metadata": {},
   "outputs": [],
   "source": [
    "news_story = ek.get_news_story(\"urn:newsml:reuters.com:20191224:nNRAairkb4:1\",raw_output=True)\n",
    "\n",
    "news_story"
   ]
  },
  {
   "cell_type": "markdown",
   "metadata": {},
   "source": [
    "# Eikon Data API Usage and Limits Guidelines\n",
    "\n",
    "https://developers.refinitiv.com/eikon-apis/eikon-data-api/docs?content=49692&type=documentation_item\n",
    "\n",
    "\n",
    "\n",
    "## What Can and Can't Our Customers do with the API\n",
    "\n",
    "The API is intended for an Eikon end user, meaning the data DOESN'T LEAVE THE DESKTOP!\n",
    "\n",
    "Eikon users may not share their login credentials, run any instances of Eikon on a server or use, distribute or redistribute information in any way that is inconsistent with their organization’s agreement with us. \n",
    "\n",
    "Non-Display Use Generally Includes, But Is Not Limited To:\n",
    "\n",
    "1. Use of data for the creation of new original works/derived data;\n",
    "2. Use of data to create indices;\n",
    "3. Use of data in electronic trading systems for the purpose of generating orders or executing transactions in an automated and/or semi-automated manner without the display of the original data. This includes, for instance, the use of the data for algorithmic trading, program trading or an automated monitoring of trading activities;\n",
    "4. Use of data in risk management systems and portfolio management applications.\n",
    "\n",
    "If you wish to resell or redistribute any applications which you develop using the Eikon Data API to third parties, you must enter into a developer's license agreement with us."
   ]
  }
 ],
 "metadata": {
  "kernelspec": {
   "display_name": "Python 3",
   "language": "python",
   "name": "python3"
  },
  "language_info": {
   "codemirror_mode": {
    "name": "ipython",
    "version": 3
   },
   "file_extension": ".py",
   "mimetype": "text/x-python",
   "name": "python",
   "nbconvert_exporter": "python",
   "pygments_lexer": "ipython3",
   "version": "3.7.3"
  }
 },
 "nbformat": 4,
 "nbformat_minor": 2
}
